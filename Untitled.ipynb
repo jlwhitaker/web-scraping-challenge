{
 "cells": [
  {
   "cell_type": "code",
   "execution_count": 36,
   "id": "eb0effd2",
   "metadata": {},
   "outputs": [],
   "source": [
    "import requests\n",
    "from bs4 import BeautifulSoup as bs\n",
    "import numpy as np\n",
    "import pandas as pd\n",
    "from splinter import Browser\n",
    "import pymongo\n",
    "from selenium import webdriver\n",
    "from webdriver_manager.chrome import ChromeDriverManager"
   ]
  },
  {
   "cell_type": "code",
   "execution_count": 82,
   "id": "a6f7a68a",
   "metadata": {},
   "outputs": [
    {
     "name": "stderr",
     "output_type": "stream",
     "text": [
      "\n",
      "\n",
      "====== WebDriver manager ======\n",
      "Current google-chrome version is 95.0.4638\n",
      "Get LATEST driver version for 95.0.4638\n",
      "Driver [C:\\Users\\jlwhi\\.wdm\\drivers\\chromedriver\\win32\\95.0.4638.17\\chromedriver.exe] found in cache\n"
     ]
    }
   ],
   "source": [
    "executable_path = {'executable_path': ChromeDriverManager().install()}\n",
    "browser = Browser('chrome', **executable_path, headless=False)"
   ]
  },
  {
   "cell_type": "markdown",
   "id": "50e7e552",
   "metadata": {},
   "source": [
    "# NASA Mars News"
   ]
  },
  {
   "cell_type": "code",
   "execution_count": 38,
   "id": "a29e2a8e",
   "metadata": {},
   "outputs": [],
   "source": [
    "mars_news_url = 'https://redplanetscience.com/#'\n",
    "\n",
    "browser.visit(mars_news_url)\n",
    "\n",
    "news_html = browser.html\n",
    "\n",
    "news_soup = bs(news_html, 'html.parser')"
   ]
  },
  {
   "cell_type": "code",
   "execution_count": 39,
   "id": "2c55d344",
   "metadata": {},
   "outputs": [],
   "source": [
    "results = news_soup.find_all(class_= 'col-md-8')\n",
    "result = results[0]"
   ]
  },
  {
   "cell_type": "code",
   "execution_count": 41,
   "id": "e6736a32",
   "metadata": {},
   "outputs": [
    {
     "name": "stdout",
     "output_type": "stream",
     "text": [
      "<div class=\"content_title\">NASA's Perseverance Rover Bringing 3D-Printed Metal Parts to Mars</div>\n"
     ]
    }
   ],
   "source": [
    "news_title = result.find(class_= \"content_title\")\n",
    "print(news_title)"
   ]
  },
  {
   "cell_type": "code",
   "execution_count": 42,
   "id": "93ff4b11",
   "metadata": {},
   "outputs": [
    {
     "name": "stdout",
     "output_type": "stream",
     "text": [
      "<div class=\"article_teaser_body\">For hobbyists and makers, 3D printing expands creative possibilities; for specialized engineers, it's also key to next-generation spacecraft design.</div>\n"
     ]
    }
   ],
   "source": [
    "news_p = result.find(class_= \"article_teaser_body\")\n",
    "print(news_p)"
   ]
  },
  {
   "cell_type": "markdown",
   "id": "bcab81c7",
   "metadata": {},
   "source": [
    "# JPL Mars Space Images - Featured Image"
   ]
  },
  {
   "cell_type": "code",
   "execution_count": 83,
   "id": "e82e8cd9",
   "metadata": {},
   "outputs": [],
   "source": [
    "space_image_url = 'https://spaceimages-mars.com/#'\n",
    "\n",
    "browser.visit(space_image_url)\n",
    "\n",
    "image_html = browser.html\n",
    "\n",
    "image_soup = bs(image_html, 'html.parser')"
   ]
  },
  {
   "cell_type": "code",
   "execution_count": 87,
   "id": "d4adae80",
   "metadata": {},
   "outputs": [
    {
     "name": "stdout",
     "output_type": "stream",
     "text": [
      "image/featured/mars2.jpg\n"
     ]
    }
   ],
   "source": [
    "featured_image = image_soup.find(\"img\", class_=\"headerimage fade-in\")[\"src\"]\n",
    "print(featured_image)"
   ]
  },
  {
   "cell_type": "code",
   "execution_count": 84,
   "id": "90469ad2",
   "metadata": {},
   "outputs": [
    {
     "name": "stdout",
     "output_type": "stream",
     "text": [
      "image/nasa.png\n",
      "image/featured/mars2.jpg\n",
      "image/mars/Icaria Fossae7.jpg\n",
      "image/mars/Proctor Crater Dunes 7.jpg\n",
      "image/mars/Icaria Fossae7.jpg\n",
      "image/mars/Proctor Crater Dunes 7.jpg\n",
      "image/mars/Proctor Crater Dunes 7.jpg\n",
      "image/mars/Icaria Fossae7.jpg\n",
      "image/mars/Icaria Fossae.jpg\n",
      "image/mars/Ariadnes Colles4.jpg\n",
      "image/mars/Niger Vallis.jpg\n",
      "image/mars/Proctor Crater Dunes.jpg\n",
      "image/mars/Niger Vallis.jpg\n",
      "image/mars/Daedalia Planum.jpg\n",
      "image/mars/Sirenum Fossae.jpg\n",
      "image/mars/Ariadnes Colles4.jpg\n",
      "image/mars/South Polar Cap.jpg\n",
      "image/mars/Daedalia Planum.jpg\n",
      "image/mars/Ariadnes Colles3.jpg\n",
      "image/mars/Atlantis Chaos.jpg\n",
      "image/mars/Daedalia Planum.jpg\n",
      "image/mars/Icaria Fossae.jpg\n",
      "image/mars/Niger Vallis.jpg\n",
      "image/mars/Proctor Crater Dunes.jpg\n",
      "image/mars/Reull Vallis.jpg\n",
      "image/mars/Ariadnes Colles3.jpg\n",
      "image/mars/Sirenum Fossae.jpg\n",
      "image/mars/South Polar Cap.jpg\n",
      "image/mars/Niger Vallis.jpg\n",
      "image/mars/Daedalia Planum.jpg\n",
      "image/mars/Icaria Fossae.jpg\n",
      "image/mars/Ariadnes Colles4.jpg\n",
      "image/mars/South Polar Cap.jpg\n",
      "image/mars/Daedalia Planum.jpg\n",
      "\n",
      "https://www.jpl.nasa.gov/assets/images/content/tmp/images/jpl_photojournal(3x1).jpg\n",
      "https://www.jpl.nasa.gov/assets/images/content/tmp/images/nasa_images(3x1).jpg\n",
      "https://imagecache.jpl.nasa.gov/images/640x350/C1-PIA24304---CatScanMars-16-640x350.gif\n",
      "https://imagecache.jpl.nasa.gov/images/640x350/PIA23491-16-640x350.jpg\n",
      "https://imagecache.jpl.nasa.gov/images/640x350/C1-PIA23180-16-640x350.gif\n"
     ]
    }
   ],
   "source": [
    "featured_image_url = ''"
   ]
  },
  {
   "cell_type": "code",
   "execution_count": 77,
   "id": "c69f56eb",
   "metadata": {},
   "outputs": [],
   "source": []
  },
  {
   "cell_type": "markdown",
   "id": "ad0064af",
   "metadata": {},
   "source": [
    "# Mars Facts"
   ]
  },
  {
   "cell_type": "code",
   "execution_count": 53,
   "id": "a77c6b26",
   "metadata": {},
   "outputs": [],
   "source": [
    "mars_facts_url = 'https://galaxyfacts-mars.com/#'\n",
    "\n",
    "response = requests.get(mars_facts_url)\n",
    "\n",
    "facts_soup = bs(facts_html, 'html.parser')"
   ]
  },
  {
   "cell_type": "code",
   "execution_count": 55,
   "id": "5ed2eebe",
   "metadata": {},
   "outputs": [
    {
     "name": "stdout",
     "output_type": "stream",
     "text": [
      "                      0                              1\n",
      "0  Equatorial Diameter:                       6,792 km\n",
      "1       Polar Diameter:                       6,752 km\n",
      "2                 Mass:  6.39 × 10^23 kg (0.11 Earths)\n",
      "3                Moons:          2 ( Phobos & Deimos )\n",
      "4       Orbit Distance:       227,943,824 km (1.38 AU)\n",
      "5         Orbit Period:           687 days (1.9 years)\n",
      "6  Surface Temperature:                   -87 to -5 °C\n",
      "7         First Record:              2nd millennium BC\n",
      "8          Recorded By:           Egyptian astronomers\n"
     ]
    }
   ],
   "source": [
    "dfs = pd.read_html(mars_facts_url)\n",
    "\n",
    "df = dfs[1]\n",
    "\n",
    "print(df)"
   ]
  },
  {
   "cell_type": "code",
   "execution_count": 57,
   "id": "2ccf6451",
   "metadata": {},
   "outputs": [
    {
     "data": {
      "text/plain": [
       "'<table border=\"1\" class=\"dataframe\">\\n  <thead>\\n    <tr style=\"text-align: right;\">\\n      <th></th>\\n      <th>0</th>\\n      <th>1</th>\\n    </tr>\\n  </thead>\\n  <tbody>\\n    <tr>\\n      <th>0</th>\\n      <td>Equatorial Diameter:</td>\\n      <td>6,792 km</td>\\n    </tr>\\n    <tr>\\n      <th>1</th>\\n      <td>Polar Diameter:</td>\\n      <td>6,752 km</td>\\n    </tr>\\n    <tr>\\n      <th>2</th>\\n      <td>Mass:</td>\\n      <td>6.39 × 10^23 kg (0.11 Earths)</td>\\n    </tr>\\n    <tr>\\n      <th>3</th>\\n      <td>Moons:</td>\\n      <td>2 ( Phobos &amp; Deimos )</td>\\n    </tr>\\n    <tr>\\n      <th>4</th>\\n      <td>Orbit Distance:</td>\\n      <td>227,943,824 km (1.38 AU)</td>\\n    </tr>\\n    <tr>\\n      <th>5</th>\\n      <td>Orbit Period:</td>\\n      <td>687 days (1.9 years)</td>\\n    </tr>\\n    <tr>\\n      <th>6</th>\\n      <td>Surface Temperature:</td>\\n      <td>-87 to -5 °C</td>\\n    </tr>\\n    <tr>\\n      <th>7</th>\\n      <td>First Record:</td>\\n      <td>2nd millennium BC</td>\\n    </tr>\\n    <tr>\\n      <th>8</th>\\n      <td>Recorded By:</td>\\n      <td>Egyptian astronomers</td>\\n    </tr>\\n  </tbody>\\n</table>'"
      ]
     },
     "execution_count": 57,
     "metadata": {},
     "output_type": "execute_result"
    }
   ],
   "source": [
    "df.to_html()"
   ]
  },
  {
   "cell_type": "markdown",
   "id": "e22f237f",
   "metadata": {},
   "source": [
    "# Mars Hemispheres "
   ]
  },
  {
   "cell_type": "code",
   "execution_count": 58,
   "id": "de119ee7",
   "metadata": {},
   "outputs": [],
   "source": [
    "hemisphere_image_urls = [\n",
    "    {\"title\": \"Valles Marineris Hemisphere\", \"img_url\": \"https://marshemispheres.com/images/b3c7c6c9138f57b4756be9b9c43e3a48_valles_marineris_enhanced.tif_full.jpg\"},\n",
    "    {\"title\": \"Cerberus Hemisphere\", \"img_url\": \"https://marshemispheres.com/images/f5e372a36edfa389625da6d0cc25d905_cerberus_enhanced.tif_full.jpg\"},\n",
    "    {\"title\": \"Schiaparelli Hemisphere\", \"img_url\": \"https://marshemispheres.com/images/3778f7b43bbbc89d6e3cfabb3613ba93_schiaparelli_enhanced.tif_full.jpg\"},\n",
    "    {\"title\": \"Syrtis Major Hemisphere\", \"img_url\": \"https://marshemispheres.com/images/555e6403a6ddd7ba16ddb0e471cadcf7_syrtis_major_enhanced.tif_full.jpg\"},\n",
    "]\n"
   ]
  },
  {
   "cell_type": "code",
   "execution_count": null,
   "id": "569a4f06",
   "metadata": {},
   "outputs": [],
   "source": []
  }
 ],
 "metadata": {
  "kernelspec": {
   "display_name": "Python 3",
   "language": "python",
   "name": "python3"
  },
  "language_info": {
   "codemirror_mode": {
    "name": "ipython",
    "version": 3
   },
   "file_extension": ".py",
   "mimetype": "text/x-python",
   "name": "python",
   "nbconvert_exporter": "python",
   "pygments_lexer": "ipython3",
   "version": "3.8.8"
  }
 },
 "nbformat": 4,
 "nbformat_minor": 5
}
